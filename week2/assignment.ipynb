{
  "nbformat": 4,
  "nbformat_minor": 0,
  "metadata": {
    "colab": {
      "name": "assignment.ipynb",
      "version": "0.3.2",
      "provenance": []
    },
    "language_info": {
      "codemirror_mode": {
        "name": "ipython",
        "version": 2
      },
      "file_extension": ".py",
      "mimetype": "text/x-python",
      "name": "python",
      "nbconvert_exporter": "python",
      "pygments_lexer": "ipython2",
      "version": "2.7.5"
    },
    "kernelspec": {
      "display_name": "Python 2",
      "language": "python",
      "name": "python2"
    }
  },
  "cells": [
    {
      "cell_type": "markdown",
      "metadata": {
        "id": "o-ixsGXmq0p3",
        "colab_type": "text"
      },
      "source": [
        "## Задача 1: сравнение предложений\n",
        "\n",
        "Дан набор предложений, скопированных с Википедии. Каждое из них имеет \"кошачью тему\" в одном из трех смыслов:\n",
        "\n",
        "  * кошки (животные)\n",
        "  * UNIX-утилита cat для вывода содержимого файлов\n",
        "  * версии операционной системы OS X, названные в честь семейства кошачьих\n",
        "Ваша задача — найти два предложения, которые ближе всего по смыслу к расположенному в самой первой строке. В качестве меры близости по смыслу мы будем использовать косинусное расстояние.\n",
        "\n",
        "#### Выполните следующие шаги:\n",
        "\n",
        "1. Скачайте файл с предложениями (sentences.txt).\n",
        "\n",
        "2. Каждая строка в файле соответствует одному предложению. Считайте их, приведите каждую к нижнему регистру с помощью строковой функции lower().\n",
        "\n",
        "3. Произведите токенизацию, то есть разбиение текстов на слова. Для этого можно воспользоваться регулярным выражением, которое считает разделителем любой символ, не являющийся буквой: re.split('[^a-z]', t). Не забудьте удалить пустые слова после разделения.\n",
        "\n",
        "4. Составьте список всех слов, встречающихся в предложениях. Сопоставьте каждому слову индекс от нуля до (d - 1), где d — число различных слов в предложениях. Для этого удобно воспользоваться структурой dict.\n",
        "\n",
        "5. Создайте матрицу размера n x d, где n — число предложений. Заполните ее: элемент с индексом (i, j) в этой матрице должен быть равен количеству вхождений j-го слова в i-е предложение. У вас должна получиться матрица размера 22 * 254.\n",
        "\n",
        "6. Найдите косинусное расстояние от предложения в самой первой строке (In comparison to dogs, cats have not undergone...) до всех остальных с помощью функции scipy.spatial.distance.cosine. Какие номера у двух предложений, ближайших к нему по этому расстоянию (строки нумеруются с нуля)? Эти два числа и будут ответами на задание.\n",
        "\n",
        "7. Запишите полученные числа в файл, разделив пробелом. Обратите внимание, что файл должен состоять из одной строки, в конце которой не должно быть переноса. Пример файла с решением вы можете найти в конце задания (submission-1.txt).\n",
        "\n",
        "8. Совпадают ли ближайшие два предложения по тематике с первым? Совпадают ли тематики у следующих по близости предложений?\n",
        "\n",
        "Разумеется, использованный вами метод крайне простой. Например, он не учитывает формы слов (так, cat и cats он считает разными словами, хотя по сути они означают одно и то же), не удаляет из текстов артикли и прочие ненужные слова. Позже мы будем подробно изучать анализ текстов, где выясним, как достичь высокого качества в задаче поиска похожих предложений."
      ]
    },
    {
      "cell_type": "code",
      "metadata": {
        "id": "aXz4wT2-q0p3",
        "colab_type": "code",
        "colab": {
          "base_uri": "https://localhost:8080/",
          "height": 142
        },
        "outputId": "806314bf-45c1-4798-e981-ee8b34ce872f"
      },
      "source": [
        "import numpy as np\n",
        "import scipy\n",
        "import pandas as pd\n",
        "import re\n",
        "\n",
        "with open('/tmp/sentences.txt') as input_file:\n",
        "    sentences = input_file.readlines()\n",
        "    \n",
        "sentences = map(lambda x: x.strip().lower(), sentences)\n",
        "num_sentences = len(sentences)\n",
        "\n",
        "sentence_tokens = map(lambda s: filter(lambda x: x!= '', re.split('[^a-z]', s)), sentences)\n",
        "\n",
        "words = {}\n",
        "curr_index = 0\n",
        "\n",
        "for sentence_token in sentence_tokens:\n",
        "    for token in sentence_token:\n",
        "        if token not in words:\n",
        "            words[token] = curr_index\n",
        "            curr_index += 1\n",
        "            \n",
        "num_words = len(words)\n",
        "matrix = np.zeros((num_sentences, num_words))\n",
        "\n",
        "for i in range(num_sentences):\n",
        "    tokens = sentence_tokens[i]\n",
        "    for token in tokens:\n",
        "        matrix[i][words[token]] += 1\n",
        "\n",
        "distances = {}\n",
        "\n",
        "first_sentence_metric = matrix[0, :]\n",
        "for i in range(num_sentences):\n",
        "    cmp_sentence_metric = matrix[i, :]\n",
        "    \n",
        "    distances[i] = scipy.spatial.distance.cosine(first_sentence_metric, cmp_sentence_metric)\n",
        "\n",
        "distances_df = pd.DataFrame.from_dict(distances, orient = 'index')\n",
        "distances_df.columns = ['distance']\n",
        "distances_df['sentence'] = map(lambda x: sentences[x], distances_df.index.values)\n",
        "\n",
        "distances_df.sort_values('distance')[:3]"
      ],
      "execution_count": 190,
      "outputs": [
        {
          "output_type": "execute_result",
          "data": {
            "text/html": [
              "<div>\n",
              "<style scoped>\n",
              "    .dataframe tbody tr th:only-of-type {\n",
              "        vertical-align: middle;\n",
              "    }\n",
              "\n",
              "    .dataframe tbody tr th {\n",
              "        vertical-align: top;\n",
              "    }\n",
              "\n",
              "    .dataframe thead th {\n",
              "        text-align: right;\n",
              "    }\n",
              "</style>\n",
              "<table border=\"1\" class=\"dataframe\">\n",
              "  <thead>\n",
              "    <tr style=\"text-align: right;\">\n",
              "      <th></th>\n",
              "      <th>distance</th>\n",
              "      <th>sentence</th>\n",
              "    </tr>\n",
              "  </thead>\n",
              "  <tbody>\n",
              "    <tr>\n",
              "      <th>0</th>\n",
              "      <td>0.000000</td>\n",
              "      <td>in comparison to dogs, cats have not undergone...</td>\n",
              "    </tr>\n",
              "    <tr>\n",
              "      <th>6</th>\n",
              "      <td>0.732739</td>\n",
              "      <td>domestic cats are similar in size to the other...</td>\n",
              "    </tr>\n",
              "    <tr>\n",
              "      <th>4</th>\n",
              "      <td>0.777089</td>\n",
              "      <td>in one, people deliberately tamed cats in a pr...</td>\n",
              "    </tr>\n",
              "  </tbody>\n",
              "</table>\n",
              "</div>"
            ],
            "text/plain": [
              "   distance                                           sentence\n",
              "0  0.000000  in comparison to dogs, cats have not undergone...\n",
              "6  0.732739  domestic cats are similar in size to the other...\n",
              "4  0.777089  in one, people deliberately tamed cats in a pr..."
            ]
          },
          "metadata": {
            "tags": []
          },
          "execution_count": 190
        }
      ]
    },
    {
      "cell_type": "markdown",
      "metadata": {
        "id": "ELZ5AUbeq0qT",
        "colab_type": "text"
      },
      "source": [
        "## Задача 2: аппроксимация функции\n",
        "\n",
        "Рассмотрим сложную математическую функцию на отрезке [1, 15]:\n",
        "\n",
        "f(x) = sin(x / 5) * exp(x / 10) + 5 * exp(-x / 2)\n",
        "\n",
        "Она может описывать, например, зависимость оценок, которые выставляют определенному сорту вина эксперты, в зависимости от возраста этого вина. По сути, задача машинного обучения состоит в том, чтобы приблизить сложную зависимость с помощью функции из определенного семейства. В этом задании мы будем приближать указанную функцию с помощью многочленов.\n",
        "\n",
        "Как известно, многочлен степени n (то есть w_0 + w_1 x + w_2 x^2 + ... + w_n x^n) однозначно определяется любыми n + 1 различными точками, через которые он проходит. Это значит, что его коэффициенты w_0, ... w_n можно определить из следующей системы линейных уравнений:\n",
        "\n",
        "где через x_1, ..., x_n, x_{n+1} обозначены точки, через которые проходит многочлен, а через f(x_1), ..., f(x_n), f(x_{n+1}) — значения, которые он должен принимать в этих точках.\n",
        "\n",
        "Воспользуемся описанным свойством, и будем находить приближение функции многочленом, решая систему линейных уравнений.\n",
        "\n",
        "1. Сформируйте систему линейных уравнений (то есть задайте матрицу коэффициентов A и свободный вектор b) для многочлена первой степени, который должен совпадать с функцией f в точках 1 и 15. Решите данную систему с помощью функции scipy.linalg.solve. Нарисуйте функцию f и полученный многочлен. Хорошо ли он приближает исходную функцию?\n",
        "\n",
        "2. Повторите те же шаги для многочлена второй степени, который совпадает с функцией f в точках 1, 8 и 15. Улучшилось ли качество аппроксимации?\n",
        "\n",
        "3. Повторите те же шаги для многочлена третьей степени, который совпадает с функцией f в точках 1, 4, 10 и 15. Хорошо ли он аппроксимирует функцию? Коэффициенты данного многочлена (четыре числа в следующем порядке: w_0, w_1, w_2, w_3) являются ответом на задачу. Округлять коэффициенты не обязательно, но при желании можете произвести округление до второго знака (т.е. до числа вида 0.42)\n",
        "\n",
        "4. Запишите полученные числа в файл, разделив пробелами. Обратите внимание, что файл должен состоять из одной строки, в конце которой не должно быть переноса. Пример файла с решением вы можете найти в конце задания (submission-2.txt)."
      ]
    },
    {
      "cell_type": "code",
      "metadata": {
        "id": "7wsuFGTWq0qT",
        "colab_type": "code",
        "colab": {
          "base_uri": "https://localhost:8080/",
          "height": 34
        },
        "outputId": "8f32090b-5237-499f-c6c9-2c9ccd7efb63"
      },
      "source": [
        "%matplotlib inline\n",
        "from matplotlib import pyplot as plt\n",
        "\n",
        "import math\n",
        "import scipy\n",
        "\n",
        "def f(x):\n",
        "    return math.sin(x/5.)*math.exp(x/10.) + 5*math.exp(-x/2.) \n",
        "  \n",
        "def get_matrix(x_points):\n",
        "    n = len(x_points)\n",
        "    matrix = []\n",
        "    for x in x_points:\n",
        "        row = []\n",
        "        for i in range(n):\n",
        "            row.append(x**i)\n",
        "        matrix.append(row)\n",
        "    return np.array(matrix)\n",
        "\n",
        "def get_approximate_values(w, x_points):\n",
        "    y = []\n",
        "    for x in x_points:\n",
        "        y_curr = 0\n",
        "        for i in range(len(w)):\n",
        "            y_curr += w[i]*(x ** i)\n",
        "        y.append(y_curr)\n",
        "    return y\n",
        "\n",
        "x = np.arange(1, 16, 0.1)\n",
        "y = map(f, x)\n",
        "\n",
        "x_2 = [1, 15]\n",
        "A_2 = get_matrix(x_2)\n",
        "y_2 = np.array(map(f, x_2))\n",
        "w_2 = scipy.linalg.solve(A_2, y_2)\n",
        "y_approx_2 = get_approximate_values(w_2, x) \n",
        "\n",
        "x_3 = [1, 8, 15]\n",
        "A_3 = get_matrix(x_3)\n",
        "y_3 = np.array(map(f, x_3))\n",
        "w_3 = scipy.linalg.solve(A_3, y_3)\n",
        "y_approx_3 = get_approximate_values(w_3, x) \n",
        "\n",
        "x_4 = [1, 4, 10, 15]\n",
        "A_4 = get_matrix(x_4)\n",
        "y_4 = np.array(map(f, x_4))\n",
        "w_4 = scipy.linalg.solve(A_4, y_4)\n",
        "y_approx_4 = get_approximate_values(w_4, x) \n",
        "\n",
        "print(w_4)\n",
        "\n",
        "#plt.plot(x, y)\n",
        "#plt.plot(x, y_approx_2)\n",
        "#plt.plot(x, y_approx_3)\n",
        "#plt.plot(x, y_approx_4)"
      ],
      "execution_count": 194,
      "outputs": [
        {
          "output_type": "stream",
          "text": [
            "[ 4.36264154 -1.29552587  0.19333685 -0.00823565]\n"
          ],
          "name": "stdout"
        }
      ]
    }
  ]
}